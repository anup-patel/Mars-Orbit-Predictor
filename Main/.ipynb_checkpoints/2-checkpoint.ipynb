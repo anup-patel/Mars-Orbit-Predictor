{
 "cells": [
  {
   "cell_type": "markdown",
   "metadata": {
    "colab_type": "text",
    "id": "6kFKeGtCrsSd"
   },
   "source": [
    "### Library Import"
   ]
  },
  {
   "cell_type": "code",
   "execution_count": 68,
   "metadata": {
    "colab": {},
    "colab_type": "code",
    "id": "5coDVxK5YMzi"
   },
   "outputs": [],
   "source": [
    "import math\n",
    "import numpy as np\n",
    "import pandas as pd\n",
    "import matplotlib.pyplot as plt\n",
    "from scipy.optimize import minimize\n",
    "import matplotlib.pyplot as plt\n",
    "from scipy.stats.mstats import gmean\n",
    "from scipy.spatial import distance"
   ]
  },
  {
   "cell_type": "markdown",
   "metadata": {},
   "source": [
    "### Input File Read "
   ]
  },
  {
   "cell_type": "code",
   "execution_count": 69,
   "metadata": {
    "colab": {},
    "colab_type": "code",
    "id": "5P9jz0uBYM27"
   },
   "outputs": [],
   "source": [
    "data=pd.read_csv(\"./../data/01_data_mars_triangulation.csv\")"
   ]
  },
  {
   "cell_type": "code",
   "execution_count": 70,
   "metadata": {
    "colab": {
     "base_uri": "https://localhost:8080/",
     "height": 198
    },
    "colab_type": "code",
    "id": "LNdcDniEpBH7",
    "outputId": "ad86e08b-5f97-4c51-b76b-9fa5805eed80"
   },
   "outputs": [
    {
     "data": {
      "text/html": [
       "<div>\n",
       "<style scoped>\n",
       "    .dataframe tbody tr th:only-of-type {\n",
       "        vertical-align: middle;\n",
       "    }\n",
       "\n",
       "    .dataframe tbody tr th {\n",
       "        vertical-align: top;\n",
       "    }\n",
       "\n",
       "    .dataframe thead th {\n",
       "        text-align: right;\n",
       "    }\n",
       "</style>\n",
       "<table border=\"1\" class=\"dataframe\">\n",
       "  <thead>\n",
       "    <tr style=\"text-align: right;\">\n",
       "      <th></th>\n",
       "      <th>PairIndex</th>\n",
       "      <th>Day</th>\n",
       "      <th>Month</th>\n",
       "      <th>Year</th>\n",
       "      <th>DegreeEarthLocationHelioCentric</th>\n",
       "      <th>MinuteEarthLocationHelioCentric</th>\n",
       "      <th>DegreeMarsLocationGeoCentric</th>\n",
       "      <th>MinuteMarsLocationGeoCentric</th>\n",
       "    </tr>\n",
       "  </thead>\n",
       "  <tbody>\n",
       "    <tr>\n",
       "      <th>0</th>\n",
       "      <td>1</td>\n",
       "      <td>17</td>\n",
       "      <td>2</td>\n",
       "      <td>1585</td>\n",
       "      <td>159</td>\n",
       "      <td>23</td>\n",
       "      <td>135</td>\n",
       "      <td>12</td>\n",
       "    </tr>\n",
       "    <tr>\n",
       "      <th>1</th>\n",
       "      <td>1</td>\n",
       "      <td>5</td>\n",
       "      <td>1</td>\n",
       "      <td>1587</td>\n",
       "      <td>115</td>\n",
       "      <td>21</td>\n",
       "      <td>182</td>\n",
       "      <td>8</td>\n",
       "    </tr>\n",
       "    <tr>\n",
       "      <th>2</th>\n",
       "      <td>2</td>\n",
       "      <td>19</td>\n",
       "      <td>9</td>\n",
       "      <td>1591</td>\n",
       "      <td>5</td>\n",
       "      <td>47</td>\n",
       "      <td>284</td>\n",
       "      <td>18</td>\n",
       "    </tr>\n",
       "    <tr>\n",
       "      <th>3</th>\n",
       "      <td>2</td>\n",
       "      <td>6</td>\n",
       "      <td>8</td>\n",
       "      <td>1593</td>\n",
       "      <td>323</td>\n",
       "      <td>26</td>\n",
       "      <td>346</td>\n",
       "      <td>56</td>\n",
       "    </tr>\n",
       "    <tr>\n",
       "      <th>4</th>\n",
       "      <td>3</td>\n",
       "      <td>7</td>\n",
       "      <td>12</td>\n",
       "      <td>1593</td>\n",
       "      <td>85</td>\n",
       "      <td>53</td>\n",
       "      <td>3</td>\n",
       "      <td>4</td>\n",
       "    </tr>\n",
       "    <tr>\n",
       "      <th>5</th>\n",
       "      <td>3</td>\n",
       "      <td>25</td>\n",
       "      <td>10</td>\n",
       "      <td>1595</td>\n",
       "      <td>41</td>\n",
       "      <td>42</td>\n",
       "      <td>49</td>\n",
       "      <td>42</td>\n",
       "    </tr>\n",
       "    <tr>\n",
       "      <th>6</th>\n",
       "      <td>4</td>\n",
       "      <td>28</td>\n",
       "      <td>3</td>\n",
       "      <td>1587</td>\n",
       "      <td>196</td>\n",
       "      <td>50</td>\n",
       "      <td>168</td>\n",
       "      <td>12</td>\n",
       "    </tr>\n",
       "    <tr>\n",
       "      <th>7</th>\n",
       "      <td>4</td>\n",
       "      <td>12</td>\n",
       "      <td>2</td>\n",
       "      <td>1589</td>\n",
       "      <td>153</td>\n",
       "      <td>42</td>\n",
       "      <td>218</td>\n",
       "      <td>48</td>\n",
       "    </tr>\n",
       "    <tr>\n",
       "      <th>8</th>\n",
       "      <td>5</td>\n",
       "      <td>10</td>\n",
       "      <td>3</td>\n",
       "      <td>1585</td>\n",
       "      <td>179</td>\n",
       "      <td>41</td>\n",
       "      <td>131</td>\n",
       "      <td>48</td>\n",
       "    </tr>\n",
       "    <tr>\n",
       "      <th>9</th>\n",
       "      <td>5</td>\n",
       "      <td>26</td>\n",
       "      <td>1</td>\n",
       "      <td>1587</td>\n",
       "      <td>136</td>\n",
       "      <td>6</td>\n",
       "      <td>184</td>\n",
       "      <td>42</td>\n",
       "    </tr>\n",
       "  </tbody>\n",
       "</table>\n",
       "</div>"
      ],
      "text/plain": [
       "   PairIndex  Day  Month  Year  DegreeEarthLocationHelioCentric  \\\n",
       "0          1   17      2  1585                              159   \n",
       "1          1    5      1  1587                              115   \n",
       "2          2   19      9  1591                                5   \n",
       "3          2    6      8  1593                              323   \n",
       "4          3    7     12  1593                               85   \n",
       "5          3   25     10  1595                               41   \n",
       "6          4   28      3  1587                              196   \n",
       "7          4   12      2  1589                              153   \n",
       "8          5   10      3  1585                              179   \n",
       "9          5   26      1  1587                              136   \n",
       "\n",
       "   MinuteEarthLocationHelioCentric  DegreeMarsLocationGeoCentric  \\\n",
       "0                               23                           135   \n",
       "1                               21                           182   \n",
       "2                               47                           284   \n",
       "3                               26                           346   \n",
       "4                               53                             3   \n",
       "5                               42                            49   \n",
       "6                               50                           168   \n",
       "7                               42                           218   \n",
       "8                               41                           131   \n",
       "9                                6                           184   \n",
       "\n",
       "   MinuteMarsLocationGeoCentric  \n",
       "0                            12  \n",
       "1                             8  \n",
       "2                            18  \n",
       "3                            56  \n",
       "4                             4  \n",
       "5                            42  \n",
       "6                            12  \n",
       "7                            48  \n",
       "8                            48  \n",
       "9                            42  "
      ]
     },
     "execution_count": 70,
     "metadata": {},
     "output_type": "execute_result"
    }
   ],
   "source": [
    "data"
   ]
  },
  {
   "cell_type": "markdown",
   "metadata": {},
   "source": [
    "### Sun Longitude "
   ]
  },
  {
   "cell_type": "code",
   "execution_count": 71,
   "metadata": {
    "colab": {},
    "colab_type": "code",
    "id": "uo1-yW4BYM7q"
   },
   "outputs": [],
   "source": [
    "earth_heliocentric_longitude=data.iloc[:,4:6]"
   ]
  },
  {
   "cell_type": "code",
   "execution_count": 72,
   "metadata": {},
   "outputs": [
    {
     "data": {
      "text/html": [
       "<div>\n",
       "<style scoped>\n",
       "    .dataframe tbody tr th:only-of-type {\n",
       "        vertical-align: middle;\n",
       "    }\n",
       "\n",
       "    .dataframe tbody tr th {\n",
       "        vertical-align: top;\n",
       "    }\n",
       "\n",
       "    .dataframe thead th {\n",
       "        text-align: right;\n",
       "    }\n",
       "</style>\n",
       "<table border=\"1\" class=\"dataframe\">\n",
       "  <thead>\n",
       "    <tr style=\"text-align: right;\">\n",
       "      <th></th>\n",
       "      <th>DegreeEarthLocationHelioCentric</th>\n",
       "      <th>MinuteEarthLocationHelioCentric</th>\n",
       "    </tr>\n",
       "  </thead>\n",
       "  <tbody>\n",
       "    <tr>\n",
       "      <th>0</th>\n",
       "      <td>159</td>\n",
       "      <td>23</td>\n",
       "    </tr>\n",
       "    <tr>\n",
       "      <th>1</th>\n",
       "      <td>115</td>\n",
       "      <td>21</td>\n",
       "    </tr>\n",
       "    <tr>\n",
       "      <th>2</th>\n",
       "      <td>5</td>\n",
       "      <td>47</td>\n",
       "    </tr>\n",
       "    <tr>\n",
       "      <th>3</th>\n",
       "      <td>323</td>\n",
       "      <td>26</td>\n",
       "    </tr>\n",
       "    <tr>\n",
       "      <th>4</th>\n",
       "      <td>85</td>\n",
       "      <td>53</td>\n",
       "    </tr>\n",
       "    <tr>\n",
       "      <th>5</th>\n",
       "      <td>41</td>\n",
       "      <td>42</td>\n",
       "    </tr>\n",
       "    <tr>\n",
       "      <th>6</th>\n",
       "      <td>196</td>\n",
       "      <td>50</td>\n",
       "    </tr>\n",
       "    <tr>\n",
       "      <th>7</th>\n",
       "      <td>153</td>\n",
       "      <td>42</td>\n",
       "    </tr>\n",
       "    <tr>\n",
       "      <th>8</th>\n",
       "      <td>179</td>\n",
       "      <td>41</td>\n",
       "    </tr>\n",
       "    <tr>\n",
       "      <th>9</th>\n",
       "      <td>136</td>\n",
       "      <td>6</td>\n",
       "    </tr>\n",
       "  </tbody>\n",
       "</table>\n",
       "</div>"
      ],
      "text/plain": [
       "   DegreeEarthLocationHelioCentric  MinuteEarthLocationHelioCentric\n",
       "0                              159                               23\n",
       "1                              115                               21\n",
       "2                                5                               47\n",
       "3                              323                               26\n",
       "4                               85                               53\n",
       "5                               41                               42\n",
       "6                              196                               50\n",
       "7                              153                               42\n",
       "8                              179                               41\n",
       "9                              136                                6"
      ]
     },
     "execution_count": 72,
     "metadata": {},
     "output_type": "execute_result"
    }
   ],
   "source": [
    "earth_heliocentric_longitude"
   ]
  },
  {
   "cell_type": "code",
   "execution_count": 73,
   "metadata": {},
   "outputs": [],
   "source": [
    "mars_geocentric_longitude=data.iloc[:,6:8]"
   ]
  },
  {
   "cell_type": "code",
   "execution_count": 74,
   "metadata": {},
   "outputs": [
    {
     "data": {
      "text/html": [
       "<div>\n",
       "<style scoped>\n",
       "    .dataframe tbody tr th:only-of-type {\n",
       "        vertical-align: middle;\n",
       "    }\n",
       "\n",
       "    .dataframe tbody tr th {\n",
       "        vertical-align: top;\n",
       "    }\n",
       "\n",
       "    .dataframe thead th {\n",
       "        text-align: right;\n",
       "    }\n",
       "</style>\n",
       "<table border=\"1\" class=\"dataframe\">\n",
       "  <thead>\n",
       "    <tr style=\"text-align: right;\">\n",
       "      <th></th>\n",
       "      <th>DegreeMarsLocationGeoCentric</th>\n",
       "      <th>MinuteMarsLocationGeoCentric</th>\n",
       "    </tr>\n",
       "  </thead>\n",
       "  <tbody>\n",
       "    <tr>\n",
       "      <th>0</th>\n",
       "      <td>135</td>\n",
       "      <td>12</td>\n",
       "    </tr>\n",
       "    <tr>\n",
       "      <th>1</th>\n",
       "      <td>182</td>\n",
       "      <td>8</td>\n",
       "    </tr>\n",
       "    <tr>\n",
       "      <th>2</th>\n",
       "      <td>284</td>\n",
       "      <td>18</td>\n",
       "    </tr>\n",
       "    <tr>\n",
       "      <th>3</th>\n",
       "      <td>346</td>\n",
       "      <td>56</td>\n",
       "    </tr>\n",
       "    <tr>\n",
       "      <th>4</th>\n",
       "      <td>3</td>\n",
       "      <td>4</td>\n",
       "    </tr>\n",
       "    <tr>\n",
       "      <th>5</th>\n",
       "      <td>49</td>\n",
       "      <td>42</td>\n",
       "    </tr>\n",
       "    <tr>\n",
       "      <th>6</th>\n",
       "      <td>168</td>\n",
       "      <td>12</td>\n",
       "    </tr>\n",
       "    <tr>\n",
       "      <th>7</th>\n",
       "      <td>218</td>\n",
       "      <td>48</td>\n",
       "    </tr>\n",
       "    <tr>\n",
       "      <th>8</th>\n",
       "      <td>131</td>\n",
       "      <td>48</td>\n",
       "    </tr>\n",
       "    <tr>\n",
       "      <th>9</th>\n",
       "      <td>184</td>\n",
       "      <td>42</td>\n",
       "    </tr>\n",
       "  </tbody>\n",
       "</table>\n",
       "</div>"
      ],
      "text/plain": [
       "   DegreeMarsLocationGeoCentric  MinuteMarsLocationGeoCentric\n",
       "0                           135                            12\n",
       "1                           182                             8\n",
       "2                           284                            18\n",
       "3                           346                            56\n",
       "4                             3                             4\n",
       "5                            49                            42\n",
       "6                           168                            12\n",
       "7                           218                            48\n",
       "8                           131                            48\n",
       "9                           184                            42"
      ]
     },
     "execution_count": 74,
     "metadata": {},
     "output_type": "execute_result"
    }
   ],
   "source": [
    "mars_geocentric_longitude"
   ]
  },
  {
   "cell_type": "code",
   "execution_count": 75,
   "metadata": {
    "colab": {},
    "colab_type": "code",
    "id": "1nOxXSUqq1Ql"
   },
   "outputs": [],
   "source": [
    "degree=data[\"DegreeEarthLocationHelioCentric\"].values\n",
    "minute=data[\"MinuteEarthLocationHelioCentric\"].values"
   ]
  },
  {
   "cell_type": "code",
   "execution_count": 76,
   "metadata": {},
   "outputs": [],
   "source": [
    "earth_heliocentric_longitude_radian=(np.pi)/180 * (degree + (minute/60))"
   ]
  },
  {
   "cell_type": "code",
   "execution_count": 77,
   "metadata": {},
   "outputs": [
    {
     "data": {
      "text/plain": [
       "array([2.78176394, 2.01323729, 0.10093821, 5.64497658, 1.49894694,\n",
       "       0.7278023 , 3.43538974, 2.68257106, 3.13606578, 2.37539311])"
      ]
     },
     "execution_count": 77,
     "metadata": {},
     "output_type": "execute_result"
    }
   ],
   "source": [
    "earth_heliocentric_longitude_radian"
   ]
  },
  {
   "cell_type": "code",
   "execution_count": 78,
   "metadata": {},
   "outputs": [],
   "source": [
    "degree_mars=data[\"DegreeMarsLocationGeoCentric\"].values\n",
    "minute_mars=data[\"MinuteMarsLocationGeoCentric\"].values"
   ]
  },
  {
   "cell_type": "code",
   "execution_count": 79,
   "metadata": {},
   "outputs": [],
   "source": [
    "mars_geocentric_longitude_radian= (np.pi)/180 * (degree_mars + (minute_mars/60))"
   ]
  },
  {
   "cell_type": "code",
   "execution_count": 80,
   "metadata": {
    "colab": {},
    "colab_type": "code",
    "id": "6qzfyF3XrQb4"
   },
   "outputs": [
    {
     "data": {
      "text/plain": [
       "array([2.35968515, 3.17882634, 4.96197106, 6.05512895, 0.05352343,\n",
       "       0.86742864, 2.9356438 , 3.8187804 , 2.30034395, 3.22362313])"
      ]
     },
     "execution_count": 80,
     "metadata": {},
     "output_type": "execute_result"
    }
   ],
   "source": [
    "mars_geocentric_longitude_radian"
   ]
  },
  {
   "cell_type": "markdown",
   "metadata": {},
   "source": [
    "### Optimization "
   ]
  },
  {
   "cell_type": "code",
   "execution_count": 81,
   "metadata": {},
   "outputs": [],
   "source": [
    "theta=earth_heliocentric_longitude_radian\n",
    "phi=mars_geocentric_longitude_radian"
   ]
  },
  {
   "cell_type": "code",
   "execution_count": 82,
   "metadata": {},
   "outputs": [
    {
     "data": {
      "text/plain": [
       "array([2.78176394, 2.01323729, 0.10093821, 5.64497658, 1.49894694,\n",
       "       0.7278023 , 3.43538974, 2.68257106, 3.13606578, 2.37539311])"
      ]
     },
     "execution_count": 82,
     "metadata": {},
     "output_type": "execute_result"
    }
   ],
   "source": [
    "theta"
   ]
  },
  {
   "cell_type": "code",
   "execution_count": 83,
   "metadata": {},
   "outputs": [
    {
     "data": {
      "text/plain": [
       "array([2.35968515, 3.17882634, 4.96197106, 6.05512895, 0.05352343,\n",
       "       0.86742864, 2.9356438 , 3.8187804 , 2.30034395, 3.22362313])"
      ]
     },
     "execution_count": 83,
     "metadata": {},
     "output_type": "execute_result"
    }
   ],
   "source": [
    "phi"
   ]
  },
  {
   "cell_type": "code",
   "execution_count": 84,
   "metadata": {},
   "outputs": [],
   "source": [
    "#Question (i)\n",
    "\n",
    "def projection(theta,phi):\n",
    "    x_list=[]\n",
    "    y_list=[]\n",
    "    r_list=[]\n",
    "    theta_list=[]\n",
    "    for i in range(0,len(theta),2):\n",
    "        x=(np.sin(theta[i+1])-np.sin(theta[i])) + ((np.tan(phi[i])*np.cos(theta[i])) - (np.tan(phi[i+1])*np.cos(theta[i+1])))\n",
    "        x_mars=x/(np.tan(phi[i]) - np.tan(phi[i+1]))\n",
    "        y_mars= np.tan(phi[i])*x_mars + (np.sin(theta[i]) - np.tan(phi[i])*np.cos(theta[i]))\n",
    "        theta_mars=np.arctan(y_mars/x_mars)\n",
    "        r=np.sqrt(x_mars**2 + y_mars**2)\n",
    "        x_list.append(x_mars)\n",
    "        y_list.append(y_mars)\n",
    "        r_list.append(r)\n",
    "        #print(y_mars/x_mars)\n",
    "        tmp=theta_mars*(180/np.pi)\n",
    "        theta_list.append(tmp)\n",
    "        #print(i)\n",
    "\n",
    "    return r_list,theta_list\n"
   ]
  },
  {
   "cell_type": "code",
   "execution_count": 85,
   "metadata": {},
   "outputs": [],
   "source": [
    "r_list,projection=projection(theta,phi)"
   ]
  },
  {
   "cell_type": "code",
   "execution_count": 86,
   "metadata": {},
   "outputs": [
    {
     "data": {
      "text/plain": [
       "[-30.782173030945078,\n",
       " -29.875300230650552,\n",
       " 44.38585402307198,\n",
       " 5.199667324717199,\n",
       " -21.90915865381196]"
      ]
     },
     "execution_count": 86,
     "metadata": {},
     "output_type": "execute_result"
    }
   ],
   "source": [
    "projection"
   ]
  },
  {
   "cell_type": "code",
   "execution_count": 87,
   "metadata": {},
   "outputs": [
    {
     "data": {
      "text/plain": [
       "[1.6912364664806874,\n",
       " 1.378914587645056,\n",
       " 1.5026827480242113,\n",
       " 1.6390494014957002,\n",
       " 1.674721368531856]"
      ]
     },
     "execution_count": 87,
     "metadata": {},
     "output_type": "execute_result"
    }
   ],
   "source": [
    "r_list"
   ]
  },
  {
   "cell_type": "code",
   "execution_count": 88,
   "metadata": {},
   "outputs": [],
   "source": [
    "def loss_circle(params,args):\n",
    "    x_list=[]\n",
    "    y_list=[]\n",
    "    r_list=[]\n",
    "    r_theta=[]\n",
    "    theta=args[0]\n",
    "    phi=args[1]\n",
    "    radius=params[0]\n",
    "    loss=0\n",
    "    for i in range(0,len(theta),2):\n",
    "        x=(np.sin(theta[i+1])-np.sin(theta[i])) + ((np.tan(phi[i])*np.cos(theta[i])) - (np.tan(phi[i+1])*np.cos(theta[i+1])))\n",
    "        x_mars=x/(np.tan(phi[i]) - np.tan(phi[i+1]))\n",
    "        y_mars= np.tan(phi[i])*x_mars + (np.sin(theta[i]) - np.tan(phi[i])*np.cos(theta[i]))\n",
    "        r=np.sqrt(x_mars**2 + y_mars**2)\n",
    "        x_list.append(x_mars)\n",
    "        y_list.append(y_mars)\n",
    "        r_list.append(r)\n",
    "    for i in range(5):\n",
    "        loss+=(radius-r_list[i])**2\n",
    "        #print(\"loss\")\n",
    "        \n",
    "    #print(r_list)\n",
    "    #print(r_theta)\n",
    "\n",
    "    #print((math.log(ap,10) - math.log(gp,10)))\n",
    "    return loss"
   ]
  },
  {
   "cell_type": "code",
   "execution_count": 89,
   "metadata": {},
   "outputs": [],
   "source": [
    "def optimizer_circle(function,method_name,theta,phi):\n",
    "    \n",
    "    \n",
    "    #radius=[1]\n",
    "    \n",
    "    initial_parameters = [1] #Random Values\n",
    "    #bound to avoid case of global Minima where i am getting Loss = 0\n",
    "    #bounds = [(0.1, np.inf) for _ in a] + [(-np.inf, np.inf)]\n",
    "    \n",
    "    parameters = minimize(function, initial_parameters,\n",
    "                      args=[theta,\n",
    "                            phi\n",
    "                            ],\n",
    "                      method=method_name)\n",
    "    #optimized_params, loss = parameters['x'], parameters['fun']\n",
    "    #print(optimized_params1)\n",
    "    #print(squared_error_loss1)\n",
    "    return parameters['x'], parameters['fun']"
   ]
  },
  {
   "cell_type": "markdown",
   "metadata": {},
   "source": [
    "### Optimize"
   ]
  },
  {
   "cell_type": "code",
   "execution_count": 90,
   "metadata": {},
   "outputs": [
    {
     "name": "stdout",
     "output_type": "stream",
     "text": [
      "Optimizing Parameters .... \n",
      "Optimized Parameters Computed\n"
     ]
    }
   ],
   "source": [
    "from scipy.spatial import distance\n",
    "\n",
    "print(\"Optimizing Parameters .... \")\n",
    "function_name=loss_circle\n",
    "optimized_params, loss= optimizer_circle(function_name,'BFGS',theta,phi)\n",
    "print(\"Optimized Parameters Computed\")"
   ]
  },
  {
   "cell_type": "code",
   "execution_count": 91,
   "metadata": {},
   "outputs": [
    {
     "data": {
      "text/plain": [
       "array([1.57732091])"
      ]
     },
     "execution_count": 91,
     "metadata": {},
     "output_type": "execute_result"
    }
   ],
   "source": [
    "optimized_params"
   ]
  },
  {
   "cell_type": "code",
   "execution_count": 92,
   "metadata": {},
   "outputs": [
    {
     "data": {
      "text/plain": [
       "0.0712099339663935"
      ]
     },
     "execution_count": 92,
     "metadata": {},
     "output_type": "execute_result"
    }
   ],
   "source": [
    "loss"
   ]
  },
  {
   "cell_type": "code",
   "execution_count": 93,
   "metadata": {},
   "outputs": [],
   "source": [
    "x_list=[]\n",
    "y_list=[]\n",
    "r_list=[]\n",
    "r_theta=[]\n",
    "radius=1.57732091\n",
    "for i in range(0,len(theta),2):\n",
    "        x=(np.sin(theta[i+1])-np.sin(theta[i])) + ((np.tan(phi[i])*np.cos(theta[i])) - (np.tan(phi[i+1])*np.cos(theta[i+1])))\n",
    "        x_mars=x/(np.tan(phi[i]) - np.tan(phi[i+1]))\n",
    "        y_mars= np.tan(phi[i])*x_mars + (np.sin(theta[i]) - np.tan(phi[i])*np.cos(theta[i]))\n",
    "        r=np.sqrt(x_mars**2 + y_mars**2)\n",
    "        x_list.append(x_mars)\n",
    "        y_list.append(y_mars)\n",
    "        r_list.append(r)\n",
    "#print(r_theta)"
   ]
  },
  {
   "cell_type": "code",
   "execution_count": 94,
   "metadata": {},
   "outputs": [
    {
     "data": {
      "text/plain": [
       "[1.6912364664806874,\n",
       " 1.378914587645056,\n",
       " 1.5026827480242113,\n",
       " 1.6390494014957002,\n",
       " 1.674721368531856]"
      ]
     },
     "execution_count": 94,
     "metadata": {},
     "output_type": "execute_result"
    }
   ],
   "source": [
    "r_list"
   ]
  },
  {
   "cell_type": "code",
   "execution_count": 95,
   "metadata": {},
   "outputs": [
    {
     "data": {
      "text/plain": [
       "[-1.4529736727603797,\n",
       " 1.195672782788594,\n",
       " 1.073885314206997,\n",
       " -1.6323045900130566,\n",
       " -1.5537673314861347]"
      ]
     },
     "execution_count": 95,
     "metadata": {},
     "output_type": "execute_result"
    }
   ],
   "source": [
    "x_list"
   ]
  },
  {
   "cell_type": "code",
   "execution_count": 96,
   "metadata": {},
   "outputs": [
    {
     "data": {
      "image/png": "[encoded data removed]",
      "text/plain": [
       "<Figure size 432x288 with 1 Axes>"
      ]
     },
     "metadata": {
      "needs_background": "light"
     },
     "output_type": "display_data"
    }
   ],
   "source": [
    "import matplotlib.pyplot as plt\n",
    "circle1 = plt.Circle((0, 0), 1.57732091,fill=False)\n",
    "fig, ax = plt.subplots()\n",
    "ax.add_artist(circle1)\n",
    "plt.scatter(x_list,y_list,color='red')\n",
    "plt.xlim([-2, 2])\n",
    "plt.ylim([-2, 2])\n",
    "plt.show()"
   ]
  },
  {
   "cell_type": "code",
   "execution_count": null,
   "metadata": {},
   "outputs": [],
   "source": []
  },
  {
   "cell_type": "code",
   "execution_count": null,
   "metadata": {},
   "outputs": [],
   "source": []
  }
 ],
 "metadata": {
  "colab": {
   "name": "data_analytics_2_i.ipynb",
   "provenance": [],
   "version": "0.3.2"
  },
  "kernelspec": {
   "display_name": "Python 3",
   "language": "python",
   "name": "python3"
  },
  "language_info": {
   "codemirror_mode": {
    "name": "ipython",
    "version": 3
   },
   "file_extension": ".py",
   "mimetype": "text/x-python",
   "name": "python",
   "nbconvert_exporter": "python",
   "pygments_lexer": "ipython3",
   "version": "3.7.3"
  }
 },
 "nbformat": 4,
 "nbformat_minor": 1
}

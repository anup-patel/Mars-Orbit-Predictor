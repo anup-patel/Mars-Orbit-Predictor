{
 "cells": [
  {
   "cell_type": "markdown",
   "metadata": {
    "colab_type": "text",
    "id": "6kFKeGtCrsSd"
   },
   "source": [
    "### Library Import"
   ]
  },
  {
   "cell_type": "code",
   "execution_count": 30,
   "metadata": {
    "colab": {},
    "colab_type": "code",
    "id": "5coDVxK5YMzi"
   },
   "outputs": [],
   "source": [
    "import math\n",
    "import numpy as np\n",
    "import pandas as pd\n",
    "import matplotlib.pyplot as plt\n",
    "from scipy.optimize import minimize\n",
    "import matplotlib.pyplot as plt\n",
    "from scipy.stats.mstats import gmean"
   ]
  },
  {
   "cell_type": "markdown",
   "metadata": {},
   "source": [
    "### Input File Read "
   ]
  },
  {
   "cell_type": "code",
   "execution_count": 31,
   "metadata": {
    "colab": {},
    "colab_type": "code",
    "id": "5P9jz0uBYM27"
   },
   "outputs": [],
   "source": [
    "data=pd.read_csv(\"./../data/01_data_mars_opposition.csv\")"
   ]
  },
  {
   "cell_type": "code",
   "execution_count": 32,
   "metadata": {
    "colab": {
     "base_uri": "https://localhost:8080/",
     "height": 198
    },
    "colab_type": "code",
    "id": "LNdcDniEpBH7",
    "outputId": "ad86e08b-5f97-4c51-b76b-9fa5805eed80"
   },
   "outputs": [],
   "source": [
    "#data.head()"
   ]
  },
  {
   "cell_type": "markdown",
   "metadata": {},
   "source": [
    "### Sun Longitude "
   ]
  },
  {
   "cell_type": "code",
   "execution_count": 33,
   "metadata": {
    "colab": {},
    "colab_type": "code",
    "id": "uo1-yW4BYM7q"
   },
   "outputs": [],
   "source": [
    "mars_heliocentric_longitude=data.iloc[:,3:7]"
   ]
  },
  {
   "cell_type": "code",
   "execution_count": 34,
   "metadata": {
    "colab": {},
    "colab_type": "code",
    "id": "1nOxXSUqq1Ql"
   },
   "outputs": [],
   "source": [
    "s=data[\"ZodiacIndex\"].values\n",
    "degree=data[\"Degree\"].values\n",
    "minute=data[\"Minute\"].values\n",
    "seconds=data[\"Second\"].values"
   ]
  },
  {
   "cell_type": "code",
   "execution_count": 35,
   "metadata": {
    "colab": {},
    "colab_type": "code",
    "id": "6qzfyF3XrQb4"
   },
   "outputs": [],
   "source": [
    "mars_heliocentric_longitude_in_degree= s*30 +degree + (minute/60) + (seconds/3600)"
   ]
  },
  {
   "cell_type": "code",
   "execution_count": 36,
   "metadata": {
    "colab": {
     "base_uri": "https://localhost:8080/",
     "height": 72
    },
    "colab_type": "code",
    "id": "B-hgczu-rmFA",
    "outputId": "4304e073-d4f4-4030-8cba-1ee166fdd7eb"
   },
   "outputs": [],
   "source": [
    "#mars_heliocentric_longitude_in_degree"
   ]
  },
  {
   "cell_type": "code",
   "execution_count": 37,
   "metadata": {
    "colab": {},
    "colab_type": "code",
    "id": "xlsFBc4uq-Fo"
   },
   "outputs": [],
   "source": [
    "mars_heliocentric_longitude_in_radian= mars_heliocentric_longitude_in_degree*math.pi/180.0"
   ]
  },
  {
   "cell_type": "code",
   "execution_count": 38,
   "metadata": {
    "colab": {
     "base_uri": "https://localhost:8080/",
     "height": 72
    },
    "colab_type": "code",
    "id": "rj1G_xIrr-3R",
    "outputId": "1f8116dc-8cc3-44da-db29-74ee9d2119d0"
   },
   "outputs": [],
   "source": [
    "#mars_heliocentric_longitude_in_radian"
   ]
  },
  {
   "cell_type": "code",
   "execution_count": 39,
   "metadata": {
    "colab": {},
    "colab_type": "code",
    "id": "4ryfhgH9r-5x"
   },
   "outputs": [],
   "source": [
    "geocentric_latitude=data.iloc[:,7:9]"
   ]
  },
  {
   "cell_type": "code",
   "execution_count": 40,
   "metadata": {
    "colab": {
     "base_uri": "https://localhost:8080/",
     "height": 198
    },
    "colab_type": "code",
    "id": "k1jYWVpwsp7u",
    "outputId": "ec6b1676-87de-4cdb-a62d-6d7b90db3f7d"
   },
   "outputs": [],
   "source": [
    "#geocentric_latitude.head()"
   ]
  },
  {
   "cell_type": "code",
   "execution_count": 41,
   "metadata": {
    "colab": {},
    "colab_type": "code",
    "id": "Uw8bA72zYNB3"
   },
   "outputs": [],
   "source": [
    "#Not Required for First Part\n",
    "geocentric_latitude_in_radian=(geocentric_latitude[\"LatDegree\"].values * math.pi/180 )+ (geocentric_latitude[\"LatMinute\"].values *math.pi/(60*180.0))"
   ]
  },
  {
   "cell_type": "code",
   "execution_count": 42,
   "metadata": {
    "colab": {
     "base_uri": "https://localhost:8080/",
     "height": 72
    },
    "colab_type": "code",
    "id": "mNrs4c5Jtwf-",
    "outputId": "12e2d857-cbc0-426a-ba69-9bfb6bcc3b76"
   },
   "outputs": [],
   "source": [
    "#geocentric_latitude_in_radian"
   ]
  },
  {
   "cell_type": "markdown",
   "metadata": {},
   "source": [
    "### Average Sun Longitude "
   ]
  },
  {
   "cell_type": "code",
   "execution_count": 43,
   "metadata": {
    "colab": {},
    "colab_type": "code",
    "id": "7Mol8G5_w2hm"
   },
   "outputs": [],
   "source": [
    "mars_mean_longitude=data.iloc[:,9:13]"
   ]
  },
  {
   "cell_type": "code",
   "execution_count": 44,
   "metadata": {
    "colab": {
     "base_uri": "https://localhost:8080/",
     "height": 35
    },
    "colab_type": "code",
    "id": "V1DWtfZdxGJq",
    "outputId": "c6b86b4f-b9fc-4456-bd2a-1c20429770e0"
   },
   "outputs": [],
   "source": [
    "#mars_mean_longitude.columns"
   ]
  },
  {
   "cell_type": "code",
   "execution_count": 45,
   "metadata": {
    "colab": {},
    "colab_type": "code",
    "id": "FNiQ8sFww2oR"
   },
   "outputs": [],
   "source": [
    "s_mean=mars_mean_longitude[\"ZodiacIndexAverageSun\"].values\n",
    "degree_mean=mars_mean_longitude[\"DegreeMean\"].values\n",
    "minute_mean=mars_mean_longitude[\"MinuteMean\"].values\n",
    "seconds_mean=mars_mean_longitude[\"SecondMean\"].values"
   ]
  },
  {
   "cell_type": "code",
   "execution_count": 46,
   "metadata": {
    "colab": {},
    "colab_type": "code",
    "id": "tz1wrliFxJtK"
   },
   "outputs": [],
   "source": [
    "mars_mean_longitude_in_degree=s_mean*30 +degree_mean + (minute_mean/60) + (seconds_mean/3600.0)"
   ]
  },
  {
   "cell_type": "code",
   "execution_count": 47,
   "metadata": {
    "colab": {},
    "colab_type": "code",
    "id": "wW5AeZ8WxJyS"
   },
   "outputs": [],
   "source": [
    "mars_mean_longitude_in_radian=mars_mean_longitude_in_degree*math.pi/180"
   ]
  },
  {
   "cell_type": "code",
   "execution_count": 48,
   "metadata": {
    "colab": {
     "base_uri": "https://localhost:8080/",
     "height": 72
    },
    "colab_type": "code",
    "id": "vMpwjAYJyP9n",
    "outputId": "89a298c7-705f-4dee-e75f-2ff5a092ad59"
   },
   "outputs": [],
   "source": [
    "#mars_mean_longitude_in_radian"
   ]
  },
  {
   "cell_type": "markdown",
   "metadata": {},
   "source": [
    "### Optimization "
   ]
  },
  {
   "cell_type": "code",
   "execution_count": 49,
   "metadata": {},
   "outputs": [],
   "source": [
    "alpha=mars_mean_longitude_in_radian\n",
    "beta=mars_heliocentric_longitude_in_radian"
   ]
  },
  {
   "cell_type": "code",
   "execution_count": 63,
   "metadata": {
    "colab": {},
    "colab_type": "code",
    "id": "NodrEsBG4VsL"
   },
   "outputs": [],
   "source": [
    "def loss_function(params,args):\n",
    "    x_list=[]\n",
    "    y_list=[]\n",
    "    r_list=[]\n",
    "    a=params[0]\n",
    "    b=params[1]\n",
    "    alpha=args[0]\n",
    "    beta=args[1]\n",
    "    for i in range(len(data)):\n",
    "        x=((-1-a)*np.sin(b) + (a*np.tan(alpha[i]) + np.tan(beta[i]))*np.cos(b))/(np.tan(alpha[i]) - np.tan(beta[i]))\n",
    "        y=a*np.sin(b) + (np.tan(alpha[i])* (x - a*np.cos(b)))\n",
    "        #print(x)\n",
    "        r=np.sqrt(x**2 + y**2)\n",
    "        x_list.append(x)\n",
    "        y_list.append(y)\n",
    "        r_list.append(r)\n",
    "    #print(x_list)   \n",
    "    ap=np.mean(r_list)\n",
    "    gp=gmean(r_list)\n",
    "    \n",
    "    #print((math.log(ap,10) - math.log(gp,10)))\n",
    "    return (math.log(ap,10) - math.log(gp,10))"
   ]
  },
  {
   "cell_type": "code",
   "execution_count": 64,
   "metadata": {},
   "outputs": [],
   "source": [
    "def optimizer(method_name,alpha,beta):\n",
    "    \n",
    "    \n",
    "    initial_parameters = [1.2,0.2] #Random Values\n",
    "   \n",
    "    parameters = minimize(loss_function, initial_parameters,\n",
    "                      args=[alpha,\n",
    "                            beta\n",
    "                            ],\n",
    "                      method=method_name)\n",
    "    #optimized_params, loss = parameters['x'], parameters['fun']\n",
    "    #print(optimized_params1)\n",
    "    #print(squared_error_loss1)\n",
    "    return parameters['x'], parameters['fun']"
   ]
  },
  {
   "cell_type": "code",
   "execution_count": 65,
   "metadata": {},
   "outputs": [
    {
     "name": "stdout",
     "output_type": "stream",
     "text": [
      "Optimizing Parameters .... \n",
      "Optimized Parameters Computed\n"
     ]
    }
   ],
   "source": [
    "print(\"Optimizing Parameters .... \")\n",
    "optimized_params, loss= optimizer('BFGS',alpha,beta)\n",
    "print(\"Optimized Parameters Computed\")"
   ]
  },
  {
   "cell_type": "code",
   "execution_count": 66,
   "metadata": {},
   "outputs": [
    {
     "data": {
      "text/plain": [
       "array([ 0.96882281, -0.54323168])"
      ]
     },
     "execution_count": 66,
     "metadata": {},
     "output_type": "execute_result"
    }
   ],
   "source": [
    "optimized_params"
   ]
  },
  {
   "cell_type": "code",
   "execution_count": 67,
   "metadata": {},
   "outputs": [
    {
     "name": "stdout",
     "output_type": "stream",
     "text": [
      "Optimized Parameters = [ 0.96882281 -0.54323168]\n"
     ]
    }
   ],
   "source": [
    "print(\"Optimized Parameters = \" + str(optimized_params))"
   ]
  },
  {
   "cell_type": "code",
   "execution_count": 68,
   "metadata": {},
   "outputs": [
    {
     "name": "stdout",
     "output_type": "stream",
     "text": [
      "Loss = 0.0017796209148295272\n"
     ]
    }
   ],
   "source": [
    "print(\"Loss = \" + str(loss))"
   ]
  },
  {
   "cell_type": "markdown",
   "metadata": {},
   "source": [
    "### Testing of Result "
   ]
  },
  {
   "cell_type": "code",
   "execution_count": 69,
   "metadata": {},
   "outputs": [],
   "source": [
    "#Plot to Check if Circle type structure is formed or not\n",
    "a=optimized_params[0]\n",
    "b=optimized_params[1]\n",
    "x_list=[]\n",
    "y_list=[]\n",
    "r_list=[]\n",
    "for i in range(len(data)):\n",
    "        x=((-1-a)*np.sin(b) + (a*np.tan(alpha[i]) + np.tan(beta[i]))*np.cos(b))/(np.tan(alpha[i]) - np.tan(beta[i]))\n",
    "        y=a*np.sin(b) + (np.tan(alpha[i])* (x - a*np.cos(b)))\n",
    "        #print(x)\n",
    "        r=np.sqrt(x**2 + y**2)\n",
    "        x_list.append(x)\n",
    "        y_list.append(y)\n",
    "        r_list.append(r)"
   ]
  },
  {
   "cell_type": "code",
   "execution_count": 70,
   "metadata": {},
   "outputs": [
    {
     "name": "stdout",
     "output_type": "stream",
     "text": [
      "Radius =10.959668875352255\n"
     ]
    }
   ],
   "source": [
    "print(\"Radius =\" + str(np.mean(r_list)))"
   ]
  },
  {
   "cell_type": "code",
   "execution_count": 71,
   "metadata": {},
   "outputs": [
    {
     "data": {
      "image/png": "[encoded data removed]",
      "text/plain": [
       "<Figure size 432x288 with 1 Axes>"
      ]
     },
     "metadata": {
      "needs_background": "light"
     },
     "output_type": "display_data"
    }
   ],
   "source": [
    "import matplotlib.pyplot as plt\n",
    "circle1 = plt.Circle((0, 0), np.mean(r_list),fill=False)\n",
    "fig, ax = plt.subplots()\n",
    "ax.add_artist(circle1)\n",
    "plt.scatter(x_list,y_list,color='blue')\n",
    "plt.show()"
   ]
  },
  {
   "cell_type": "code",
   "execution_count": 32,
   "metadata": {},
   "outputs": [],
   "source": [
    "#x_list"
   ]
  },
  {
   "cell_type": "code",
   "execution_count": 33,
   "metadata": {},
   "outputs": [],
   "source": [
    "#y_list"
   ]
  },
  {
   "cell_type": "code",
   "execution_count": 34,
   "metadata": {},
   "outputs": [],
   "source": [
    "#r_list"
   ]
  }
 ],
 "metadata": {
  "colab": {
   "name": "data_analytics_2_i.ipynb",
   "provenance": [],
   "version": "0.3.2"
  },
  "kernelspec": {
   "display_name": "Python 3",
   "language": "python",
   "name": "python3"
  },
  "language_info": {
   "codemirror_mode": {
    "name": "ipython",
    "version": 3
   },
   "file_extension": ".py",
   "mimetype": "text/x-python",
   "name": "python",
   "nbconvert_exporter": "python",
   "pygments_lexer": "ipython3",
   "version": "3.7.3"
  }
 },
 "nbformat": 4,
 "nbformat_minor": 1
}

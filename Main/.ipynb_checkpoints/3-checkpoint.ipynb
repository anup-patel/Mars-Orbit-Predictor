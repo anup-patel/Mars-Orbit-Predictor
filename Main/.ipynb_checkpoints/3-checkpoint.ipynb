{
 "cells": [
  {
   "cell_type": "markdown",
   "metadata": {
    "colab_type": "text",
    "id": "6kFKeGtCrsSd"
   },
   "source": [
    "### Library Import"
   ]
  },
  {
   "cell_type": "code",
   "execution_count": 176,
   "metadata": {
    "colab": {},
    "colab_type": "code",
    "id": "5coDVxK5YMzi"
   },
   "outputs": [],
   "source": [
    "import math\n",
    "import numpy as np\n",
    "import pandas as pd\n",
    "import matplotlib.pyplot as plt\n",
    "from scipy.optimize import minimize\n",
    "import matplotlib.pyplot as plt\n",
    "from scipy.stats.mstats import gmean"
   ]
  },
  {
   "cell_type": "markdown",
   "metadata": {},
   "source": [
    "### Input File Read "
   ]
  },
  {
   "cell_type": "code",
   "execution_count": 177,
   "metadata": {
    "colab": {},
    "colab_type": "code",
    "id": "5P9jz0uBYM27"
   },
   "outputs": [],
   "source": [
    "data=pd.read_csv(\"./../data/01_data_mars_opposition.csv\")"
   ]
  },
  {
   "cell_type": "code",
   "execution_count": 178,
   "metadata": {
    "colab": {
     "base_uri": "https://localhost:8080/",
     "height": 198
    },
    "colab_type": "code",
    "id": "LNdcDniEpBH7",
    "outputId": "ad86e08b-5f97-4c51-b76b-9fa5805eed80"
   },
   "outputs": [
    {
     "data": {
      "text/html": [
       "<div>\n",
       "<style scoped>\n",
       "    .dataframe tbody tr th:only-of-type {\n",
       "        vertical-align: middle;\n",
       "    }\n",
       "\n",
       "    .dataframe tbody tr th {\n",
       "        vertical-align: top;\n",
       "    }\n",
       "\n",
       "    .dataframe thead th {\n",
       "        text-align: right;\n",
       "    }\n",
       "</style>\n",
       "<table border=\"1\" class=\"dataframe\">\n",
       "  <thead>\n",
       "    <tr style=\"text-align: right;\">\n",
       "      <th></th>\n",
       "      <th>Day</th>\n",
       "      <th>Month</th>\n",
       "      <th>Year</th>\n",
       "      <th>ZodiacIndex</th>\n",
       "      <th>Degree</th>\n",
       "      <th>Minute</th>\n",
       "      <th>Second</th>\n",
       "      <th>LatDegree</th>\n",
       "      <th>LatMinute</th>\n",
       "      <th>ZodiacIndexAverageSun</th>\n",
       "      <th>DegreeMean</th>\n",
       "      <th>MinuteMean</th>\n",
       "      <th>SecondMean</th>\n",
       "    </tr>\n",
       "  </thead>\n",
       "  <tbody>\n",
       "    <tr>\n",
       "      <th>0</th>\n",
       "      <td>18</td>\n",
       "      <td>11</td>\n",
       "      <td>1580</td>\n",
       "      <td>2</td>\n",
       "      <td>6</td>\n",
       "      <td>28</td>\n",
       "      <td>35</td>\n",
       "      <td>1</td>\n",
       "      <td>40</td>\n",
       "      <td>1</td>\n",
       "      <td>25</td>\n",
       "      <td>49</td>\n",
       "      <td>31</td>\n",
       "    </tr>\n",
       "    <tr>\n",
       "      <th>1</th>\n",
       "      <td>28</td>\n",
       "      <td>12</td>\n",
       "      <td>1582</td>\n",
       "      <td>3</td>\n",
       "      <td>16</td>\n",
       "      <td>55</td>\n",
       "      <td>30</td>\n",
       "      <td>4</td>\n",
       "      <td>6</td>\n",
       "      <td>3</td>\n",
       "      <td>9</td>\n",
       "      <td>24</td>\n",
       "      <td>55</td>\n",
       "    </tr>\n",
       "    <tr>\n",
       "      <th>2</th>\n",
       "      <td>30</td>\n",
       "      <td>1</td>\n",
       "      <td>1585</td>\n",
       "      <td>4</td>\n",
       "      <td>21</td>\n",
       "      <td>36</td>\n",
       "      <td>10</td>\n",
       "      <td>4</td>\n",
       "      <td>32</td>\n",
       "      <td>4</td>\n",
       "      <td>20</td>\n",
       "      <td>8</td>\n",
       "      <td>9</td>\n",
       "    </tr>\n",
       "    <tr>\n",
       "      <th>3</th>\n",
       "      <td>6</td>\n",
       "      <td>3</td>\n",
       "      <td>1587</td>\n",
       "      <td>5</td>\n",
       "      <td>25</td>\n",
       "      <td>43</td>\n",
       "      <td>0</td>\n",
       "      <td>3</td>\n",
       "      <td>41</td>\n",
       "      <td>6</td>\n",
       "      <td>0</td>\n",
       "      <td>47</td>\n",
       "      <td>40</td>\n",
       "    </tr>\n",
       "    <tr>\n",
       "      <th>4</th>\n",
       "      <td>14</td>\n",
       "      <td>4</td>\n",
       "      <td>1589</td>\n",
       "      <td>7</td>\n",
       "      <td>4</td>\n",
       "      <td>23</td>\n",
       "      <td>0</td>\n",
       "      <td>1</td>\n",
       "      <td>12</td>\n",
       "      <td>7</td>\n",
       "      <td>14</td>\n",
       "      <td>18</td>\n",
       "      <td>26</td>\n",
       "    </tr>\n",
       "  </tbody>\n",
       "</table>\n",
       "</div>"
      ],
      "text/plain": [
       "   Day  Month  Year  ZodiacIndex  Degree  Minute  Second  LatDegree  \\\n",
       "0   18     11  1580            2       6      28      35          1   \n",
       "1   28     12  1582            3      16      55      30          4   \n",
       "2   30      1  1585            4      21      36      10          4   \n",
       "3    6      3  1587            5      25      43       0          3   \n",
       "4   14      4  1589            7       4      23       0          1   \n",
       "\n",
       "   LatMinute  ZodiacIndexAverageSun  DegreeMean  MinuteMean  SecondMean  \n",
       "0         40                      1          25          49          31  \n",
       "1          6                      3           9          24          55  \n",
       "2         32                      4          20           8           9  \n",
       "3         41                      6           0          47          40  \n",
       "4         12                      7          14          18          26  "
      ]
     },
     "execution_count": 178,
     "metadata": {},
     "output_type": "execute_result"
    }
   ],
   "source": [
    "data.head()"
   ]
  },
  {
   "cell_type": "code",
   "execution_count": 179,
   "metadata": {
    "colab": {},
    "colab_type": "code",
    "id": "uo1-yW4BYM7q"
   },
   "outputs": [],
   "source": [
    "mars_heliocentric_longitude=data.iloc[:,3:7]"
   ]
  },
  {
   "cell_type": "code",
   "execution_count": 180,
   "metadata": {
    "colab": {},
    "colab_type": "code",
    "id": "1nOxXSUqq1Ql"
   },
   "outputs": [],
   "source": [
    "s=data[\"ZodiacIndex\"].values\n",
    "degree=data[\"Degree\"].values\n",
    "minute=data[\"Minute\"].values\n",
    "seconds=data[\"Second\"].values"
   ]
  },
  {
   "cell_type": "code",
   "execution_count": 181,
   "metadata": {
    "colab": {},
    "colab_type": "code",
    "id": "6qzfyF3XrQb4"
   },
   "outputs": [],
   "source": [
    "mars_heliocentric_longitude_in_degree= s*30 +degree + (minute/60) + (seconds/3600)"
   ]
  },
  {
   "cell_type": "code",
   "execution_count": 182,
   "metadata": {
    "colab": {
     "base_uri": "https://localhost:8080/",
     "height": 72
    },
    "colab_type": "code",
    "id": "B-hgczu-rmFA",
    "outputId": "4304e073-d4f4-4030-8cba-1ee166fdd7eb"
   },
   "outputs": [],
   "source": [
    "#mars_heliocentric_longitude_in_degree"
   ]
  },
  {
   "cell_type": "code",
   "execution_count": 183,
   "metadata": {
    "colab": {},
    "colab_type": "code",
    "id": "xlsFBc4uq-Fo"
   },
   "outputs": [],
   "source": [
    "mars_heliocentric_longitude_in_radian= mars_heliocentric_longitude_in_degree*math.pi/180.0"
   ]
  },
  {
   "cell_type": "code",
   "execution_count": 184,
   "metadata": {
    "colab": {
     "base_uri": "https://localhost:8080/",
     "height": 72
    },
    "colab_type": "code",
    "id": "rj1G_xIrr-3R",
    "outputId": "1f8116dc-8cc3-44da-db29-74ee9d2119d0"
   },
   "outputs": [],
   "source": [
    "#mars_heliocentric_longitude_in_radian"
   ]
  },
  {
   "cell_type": "code",
   "execution_count": 185,
   "metadata": {
    "colab": {},
    "colab_type": "code",
    "id": "4ryfhgH9r-5x"
   },
   "outputs": [],
   "source": [
    "geocentric_latitude=data.iloc[:,7:9]"
   ]
  },
  {
   "cell_type": "code",
   "execution_count": 186,
   "metadata": {
    "colab": {
     "base_uri": "https://localhost:8080/",
     "height": 198
    },
    "colab_type": "code",
    "id": "k1jYWVpwsp7u",
    "outputId": "ec6b1676-87de-4cdb-a62d-6d7b90db3f7d"
   },
   "outputs": [
    {
     "data": {
      "text/html": [
       "<div>\n",
       "<style scoped>\n",
       "    .dataframe tbody tr th:only-of-type {\n",
       "        vertical-align: middle;\n",
       "    }\n",
       "\n",
       "    .dataframe tbody tr th {\n",
       "        vertical-align: top;\n",
       "    }\n",
       "\n",
       "    .dataframe thead th {\n",
       "        text-align: right;\n",
       "    }\n",
       "</style>\n",
       "<table border=\"1\" class=\"dataframe\">\n",
       "  <thead>\n",
       "    <tr style=\"text-align: right;\">\n",
       "      <th></th>\n",
       "      <th>LatDegree</th>\n",
       "      <th>LatMinute</th>\n",
       "    </tr>\n",
       "  </thead>\n",
       "  <tbody>\n",
       "    <tr>\n",
       "      <th>0</th>\n",
       "      <td>1</td>\n",
       "      <td>40</td>\n",
       "    </tr>\n",
       "    <tr>\n",
       "      <th>1</th>\n",
       "      <td>4</td>\n",
       "      <td>6</td>\n",
       "    </tr>\n",
       "    <tr>\n",
       "      <th>2</th>\n",
       "      <td>4</td>\n",
       "      <td>32</td>\n",
       "    </tr>\n",
       "    <tr>\n",
       "      <th>3</th>\n",
       "      <td>3</td>\n",
       "      <td>41</td>\n",
       "    </tr>\n",
       "    <tr>\n",
       "      <th>4</th>\n",
       "      <td>1</td>\n",
       "      <td>12</td>\n",
       "    </tr>\n",
       "    <tr>\n",
       "      <th>5</th>\n",
       "      <td>-4</td>\n",
       "      <td>0</td>\n",
       "    </tr>\n",
       "    <tr>\n",
       "      <th>6</th>\n",
       "      <td>-6</td>\n",
       "      <td>-2</td>\n",
       "    </tr>\n",
       "    <tr>\n",
       "      <th>7</th>\n",
       "      <td>0</td>\n",
       "      <td>8</td>\n",
       "    </tr>\n",
       "    <tr>\n",
       "      <th>8</th>\n",
       "      <td>3</td>\n",
       "      <td>33</td>\n",
       "    </tr>\n",
       "    <tr>\n",
       "      <th>9</th>\n",
       "      <td>4</td>\n",
       "      <td>30</td>\n",
       "    </tr>\n",
       "    <tr>\n",
       "      <th>10</th>\n",
       "      <td>4</td>\n",
       "      <td>10</td>\n",
       "    </tr>\n",
       "    <tr>\n",
       "      <th>11</th>\n",
       "      <td>2</td>\n",
       "      <td>26</td>\n",
       "    </tr>\n",
       "  </tbody>\n",
       "</table>\n",
       "</div>"
      ],
      "text/plain": [
       "    LatDegree  LatMinute\n",
       "0           1         40\n",
       "1           4          6\n",
       "2           4         32\n",
       "3           3         41\n",
       "4           1         12\n",
       "5          -4          0\n",
       "6          -6         -2\n",
       "7           0          8\n",
       "8           3         33\n",
       "9           4         30\n",
       "10          4         10\n",
       "11          2         26"
      ]
     },
     "execution_count": 186,
     "metadata": {},
     "output_type": "execute_result"
    }
   ],
   "source": [
    "geocentric_latitude.head(12)"
   ]
  },
  {
   "cell_type": "code",
   "execution_count": 187,
   "metadata": {
    "colab": {},
    "colab_type": "code",
    "id": "Uw8bA72zYNB3"
   },
   "outputs": [],
   "source": [
    "#Not Required for First Part\n",
    "geocentric_latitude_in_radian=(np.pi/180)*((geocentric_latitude[\"LatDegree\"].values )+ (geocentric_latitude[\"LatMinute\"].values /60))"
   ]
  },
  {
   "cell_type": "code",
   "execution_count": 188,
   "metadata": {
    "colab": {
     "base_uri": "https://localhost:8080/",
     "height": 72
    },
    "colab_type": "code",
    "id": "mNrs4c5Jtwf-",
    "outputId": "12e2d857-cbc0-426a-ba69-9bfb6bcc3b76"
   },
   "outputs": [
    {
     "data": {
      "text/plain": [
       "array([ 0.02908882,  0.0715585 ,  0.07912159,  0.06428629,  0.02094395,\n",
       "       -0.06981317, -0.10530153,  0.00232711,  0.06195919,  0.07853982,\n",
       "        0.07272205,  0.04246968])"
      ]
     },
     "execution_count": 188,
     "metadata": {},
     "output_type": "execute_result"
    }
   ],
   "source": [
    "geocentric_latitude_in_radian"
   ]
  },
  {
   "cell_type": "code",
   "execution_count": 189,
   "metadata": {},
   "outputs": [
    {
     "data": {
      "text/plain": [
       "array([1.16023186, 1.8661933 , 2.4714347 , 3.06683438, 3.74169503,\n",
       "       4.655084  , 5.97368025, 0.82951621, 1.61384778, 2.24507519,\n",
       "       2.83528737, 3.46656326])"
      ]
     },
     "execution_count": 189,
     "metadata": {},
     "output_type": "execute_result"
    }
   ],
   "source": [
    "mars_heliocentric_longitude_in_radian"
   ]
  },
  {
   "cell_type": "markdown",
   "metadata": {},
   "source": [
    "# Q3 _1"
   ]
  },
  {
   "cell_type": "code",
   "execution_count": 190,
   "metadata": {},
   "outputs": [],
   "source": [
    "orbit_radius=1.579"
   ]
  },
  {
   "cell_type": "code",
   "execution_count": 191,
   "metadata": {},
   "outputs": [],
   "source": [
    "mars_heliocentric_latitude=np.arctan(np.tan(geocentric_latitude_in_radian)*(1-(1/orbit_radius)))"
   ]
  },
  {
   "cell_type": "code",
   "execution_count": 192,
   "metadata": {},
   "outputs": [
    {
     "data": {
      "text/plain": [
       "0.6095314726584946"
      ]
     },
     "execution_count": 192,
     "metadata": {},
     "output_type": "execute_result"
    }
   ],
   "source": [
    "np.mean(mars_heliocentric_latitude*(180/np.pi))"
   ]
  },
  {
   "cell_type": "markdown",
   "metadata": {},
   "source": [
    "# Q3_2"
   ]
  },
  {
   "cell_type": "code",
   "execution_count": 211,
   "metadata": {},
   "outputs": [],
   "source": [
    "x_list=[]\n",
    "y_list=[]\n",
    "z_list=[]\n",
    "for i in range(len(data)):\n",
    "    x_list.append(orbit_radius*np.cos(mars_heliocentric_longitude_in_radian[i]))\n",
    "    y_list.append(orbit_radius*np.sin(mars_heliocentric_longitude_in_radian[i]))\n",
    "    z_list.append(orbit_radius*np.sin(mars_heliocentric_latitude[i]))\n",
    "    "
   ]
  },
  {
   "cell_type": "code",
   "execution_count": 212,
   "metadata": {},
   "outputs": [
    {
     "data": {
      "text/plain": [
       "[0.6302214506342391,\n",
       " -0.45967793460779227,\n",
       " -1.2374995178179231,\n",
       " -1.5745896978845022,\n",
       " -1.3031136550529445,\n",
       " -0.09043504387294278,\n",
       " 1.5039729319883364,\n",
       " 1.066192411341149,\n",
       " -0.06795725041023541,\n",
       " -0.9858236406673199,\n",
       " -1.505504138091703,\n",
       " -1.4963553142391834]"
      ]
     },
     "execution_count": 212,
     "metadata": {},
     "output_type": "execute_result"
    }
   ],
   "source": [
    "x_list"
   ]
  },
  {
   "cell_type": "code",
   "execution_count": 213,
   "metadata": {},
   "outputs": [
    {
     "data": {
      "text/plain": [
       "[1.4477782714077716,\n",
       " 1.5106082206961255,\n",
       " 0.9807323505423933,\n",
       " 0.11793338507815275,\n",
       " -0.8917038757427017,\n",
       " -1.5764081016157265,\n",
       " -0.48094326052706743,\n",
       " 1.1646779563461078,\n",
       " 1.5775369447707652,\n",
       " 1.2334475057745389,\n",
       " 0.47612843875235894,\n",
       " -0.5041445958732023]"
      ]
     },
     "execution_count": 213,
     "metadata": {},
     "output_type": "execute_result"
    }
   ],
   "source": [
    "y_list"
   ]
  },
  {
   "cell_type": "code",
   "execution_count": 214,
   "metadata": {},
   "outputs": [
    {
     "data": {
      "text/plain": [
       "[0.016846220501001975,\n",
       " 0.04148890670302791,\n",
       " 0.045887848948930464,\n",
       " 0.037262744659470666,\n",
       " 0.012127963296328722,\n",
       " -0.04047432084141677,\n",
       " -0.061150035146953836,\n",
       " 0.0013473961242206885,\n",
       " 0.03591105632158501,\n",
       " 0.04554932456704468,\n",
       " 0.042165409444318055,\n",
       " 0.024601751942458543]"
      ]
     },
     "execution_count": 214,
     "metadata": {},
     "output_type": "execute_result"
    }
   ],
   "source": [
    "z_list"
   ]
  },
  {
   "cell_type": "markdown",
   "metadata": {},
   "source": [
    "### Inclination of Mars orbit to Reference Axis "
   ]
  },
  {
   "cell_type": "code",
   "execution_count": 215,
   "metadata": {},
   "outputs": [],
   "source": [
    "def loss_function(params,args):\n",
    "    \n",
    "    a=params[0]\n",
    "    b=params[1]\n",
    "    c=params[2]\n",
    "    d=params[3]\n",
    "    \n",
    "    x=args[0]\n",
    "    y=args[1]\n",
    "    z=args[2]\n",
    "    loss=0\n",
    "    for i in range(len(phi)):\n",
    "        d = abs((a * x[i] + b * y[i] + c * z[i] + d))  \n",
    "        e = (math.sqrt(a * a + b * b + c * c))\n",
    "        loss+=(d/e)\n",
    "        \n",
    "    \n",
    "    #print(loss)\n",
    "    return loss"
   ]
  },
  {
   "cell_type": "code",
   "execution_count": 232,
   "metadata": {},
   "outputs": [],
   "source": [
    "def optimizer(function,method_name,x_list,y_list,z_list):\n",
    "    \n",
    "    \n",
    "    initial_parameters = [1,1,2,3] #Random Values\n",
    "    #bound to avoid case of global Minima where i am getting Loss = 0\n",
    "    #bounds = [(0.1, np.inf) for _ in a] + [(-np.inf, np.inf)]\n",
    "    \n",
    "    parameters = minimize(function, initial_parameters,\n",
    "                      args=[x_list,y_list,z_list\n",
    "                            ],\n",
    "                      method=method_name)\n",
    "    #optimized_params, loss = parameters['x'], parameters['fun']\n",
    "    #print(optimized_params1)\n",
    "    #print(squared_error_loss1)\n",
    "    return parameters['x'], parameters['fun']"
   ]
  },
  {
   "cell_type": "code",
   "execution_count": 233,
   "metadata": {},
   "outputs": [
    {
     "name": "stdout",
     "output_type": "stream",
     "text": [
      "Optimizing Parameters .... \n",
      "Optimized Parameters Computed\n"
     ]
    }
   ],
   "source": [
    "print(\"Optimizing Parameters .... \")\n",
    "function_name=loss_function\n",
    "optimized_params, loss= optimizer(function_name,'BFGS',x_list,y_list,z_list)\n",
    "print(\"Optimized Parameters Computed\")"
   ]
  },
  {
   "cell_type": "code",
   "execution_count": 234,
   "metadata": {},
   "outputs": [
    {
     "data": {
      "text/plain": [
       "array([ 0.12395044, -0.15173525,  6.17753296,  0.06811921])"
      ]
     },
     "execution_count": 234,
     "metadata": {},
     "output_type": "execute_result"
    }
   ],
   "source": [
    "optimized_params"
   ]
  },
  {
   "cell_type": "code",
   "execution_count": 235,
   "metadata": {},
   "outputs": [
    {
     "data": {
      "text/plain": [
       "0.0541954941909738"
      ]
     },
     "execution_count": 235,
     "metadata": {},
     "output_type": "execute_result"
    }
   ],
   "source": [
    "loss"
   ]
  },
  {
   "cell_type": "code",
   "execution_count": 236,
   "metadata": {},
   "outputs": [
    {
     "data": {
      "text/plain": [
       "6.181014560819571"
      ]
     },
     "execution_count": 236,
     "metadata": {},
     "output_type": "execute_result"
    }
   ],
   "source": [
    "np.linalg.norm(optimized_params)"
   ]
  },
  {
   "cell_type": "code",
   "execution_count": 238,
   "metadata": {},
   "outputs": [],
   "source": [
    "inclination=np.arccos(optimized_params[2]/np.linalg.norm(optimized_params))*(180/np.pi)"
   ]
  },
  {
   "cell_type": "code",
   "execution_count": 239,
   "metadata": {},
   "outputs": [
    {
     "data": {
      "text/plain": [
       "1.9231696446879698"
      ]
     },
     "execution_count": 239,
     "metadata": {},
     "output_type": "execute_result"
    }
   ],
   "source": [
    "inclination"
   ]
  },
  {
   "cell_type": "code",
   "execution_count": null,
   "metadata": {},
   "outputs": [],
   "source": []
  }
 ],
 "metadata": {
  "colab": {
   "name": "data_analytics_2_i.ipynb",
   "provenance": [],
   "version": "0.3.2"
  },
  "kernelspec": {
   "display_name": "Python 3",
   "language": "python",
   "name": "python3"
  },
  "language_info": {
   "codemirror_mode": {
    "name": "ipython",
    "version": 3
   },
   "file_extension": ".py",
   "mimetype": "text/x-python",
   "name": "python",
   "nbconvert_exporter": "python",
   "pygments_lexer": "ipython3",
   "version": "3.7.3"
  }
 },
 "nbformat": 4,
 "nbformat_minor": 1
}

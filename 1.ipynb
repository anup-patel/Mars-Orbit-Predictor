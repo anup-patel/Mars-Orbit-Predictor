{
 "cells": [
  {
   "cell_type": "markdown",
   "metadata": {
    "colab_type": "text",
    "id": "6kFKeGtCrsSd"
   },
   "source": [
    "### Library Import"
   ]
  },
  {
   "cell_type": "code",
   "execution_count": 1,
   "metadata": {
    "colab": {},
    "colab_type": "code",
    "id": "5coDVxK5YMzi"
   },
   "outputs": [],
   "source": [
    "import math\n",
    "import numpy as np\n",
    "import pandas as pd\n",
    "import matplotlib.pyplot as plt\n",
    "from scipy.optimize import minimize\n",
    "import matplotlib.pyplot as plt\n",
    "from scipy.stats.mstats import gmean"
   ]
  },
  {
   "cell_type": "markdown",
   "metadata": {},
   "source": [
    "### Input File Read "
   ]
  },
  {
   "cell_type": "code",
   "execution_count": 2,
   "metadata": {
    "colab": {},
    "colab_type": "code",
    "id": "5P9jz0uBYM27"
   },
   "outputs": [],
   "source": [
    "data=pd.read_csv(\"./../data/01_data_mars_opposition.csv\")"
   ]
  },
  {
   "cell_type": "code",
   "execution_count": 3,
   "metadata": {
    "colab": {
     "base_uri": "https://localhost:8080/",
     "height": 198
    },
    "colab_type": "code",
    "id": "LNdcDniEpBH7",
    "outputId": "ad86e08b-5f97-4c51-b76b-9fa5805eed80"
   },
   "outputs": [],
   "source": [
    "#data.head()"
   ]
  },
  {
   "cell_type": "markdown",
   "metadata": {},
   "source": [
    "### Sun Longitude "
   ]
  },
  {
   "cell_type": "code",
   "execution_count": 4,
   "metadata": {
    "colab": {},
    "colab_type": "code",
    "id": "uo1-yW4BYM7q"
   },
   "outputs": [],
   "source": [
    "mars_heliocentric_longitude=data.iloc[:,3:7]"
   ]
  },
  {
   "cell_type": "code",
   "execution_count": 5,
   "metadata": {
    "colab": {},
    "colab_type": "code",
    "id": "1nOxXSUqq1Ql"
   },
   "outputs": [],
   "source": [
    "s=data[\"ZodiacIndex\"].values\n",
    "degree=data[\"Degree\"].values\n",
    "minute=data[\"Minute\"].values\n",
    "seconds=data[\"Second\"].values"
   ]
  },
  {
   "cell_type": "code",
   "execution_count": 6,
   "metadata": {
    "colab": {},
    "colab_type": "code",
    "id": "6qzfyF3XrQb4"
   },
   "outputs": [],
   "source": [
    "mars_heliocentric_longitude_in_degree= s*30 +degree + (minute/60) + (seconds/3600)"
   ]
  },
  {
   "cell_type": "code",
   "execution_count": 7,
   "metadata": {
    "colab": {
     "base_uri": "https://localhost:8080/",
     "height": 72
    },
    "colab_type": "code",
    "id": "B-hgczu-rmFA",
    "outputId": "4304e073-d4f4-4030-8cba-1ee166fdd7eb"
   },
   "outputs": [],
   "source": [
    "#mars_heliocentric_longitude_in_degree"
   ]
  },
  {
   "cell_type": "code",
   "execution_count": 8,
   "metadata": {
    "colab": {},
    "colab_type": "code",
    "id": "xlsFBc4uq-Fo"
   },
   "outputs": [],
   "source": [
    "mars_heliocentric_longitude_in_radian= mars_heliocentric_longitude_in_degree*math.pi/180.0"
   ]
  },
  {
   "cell_type": "code",
   "execution_count": 9,
   "metadata": {
    "colab": {
     "base_uri": "https://localhost:8080/",
     "height": 72
    },
    "colab_type": "code",
    "id": "rj1G_xIrr-3R",
    "outputId": "1f8116dc-8cc3-44da-db29-74ee9d2119d0"
   },
   "outputs": [],
   "source": [
    "#mars_heliocentric_longitude_in_radian"
   ]
  },
  {
   "cell_type": "code",
   "execution_count": 10,
   "metadata": {
    "colab": {},
    "colab_type": "code",
    "id": "4ryfhgH9r-5x"
   },
   "outputs": [],
   "source": [
    "geocentric_latitude=data.iloc[:,7:9]"
   ]
  },
  {
   "cell_type": "code",
   "execution_count": 11,
   "metadata": {
    "colab": {
     "base_uri": "https://localhost:8080/",
     "height": 198
    },
    "colab_type": "code",
    "id": "k1jYWVpwsp7u",
    "outputId": "ec6b1676-87de-4cdb-a62d-6d7b90db3f7d"
   },
   "outputs": [],
   "source": [
    "#geocentric_latitude.head()"
   ]
  },
  {
   "cell_type": "code",
   "execution_count": 12,
   "metadata": {
    "colab": {},
    "colab_type": "code",
    "id": "Uw8bA72zYNB3"
   },
   "outputs": [],
   "source": [
    "#Not Required for First Part\n",
    "geocentric_latitude_in_radian=(geocentric_latitude[\"LatDegree\"].values * math.pi/180 )+ (geocentric_latitude[\"LatMinute\"].values *math.pi/(60*180.0))"
   ]
  },
  {
   "cell_type": "code",
   "execution_count": 13,
   "metadata": {
    "colab": {
     "base_uri": "https://localhost:8080/",
     "height": 72
    },
    "colab_type": "code",
    "id": "mNrs4c5Jtwf-",
    "outputId": "12e2d857-cbc0-426a-ba69-9bfb6bcc3b76"
   },
   "outputs": [],
   "source": [
    "#geocentric_latitude_in_radian"
   ]
  },
  {
   "cell_type": "markdown",
   "metadata": {},
   "source": [
    "### Average Sun Longitude "
   ]
  },
  {
   "cell_type": "code",
   "execution_count": 14,
   "metadata": {
    "colab": {},
    "colab_type": "code",
    "id": "7Mol8G5_w2hm"
   },
   "outputs": [],
   "source": [
    "mars_mean_longitude=data.iloc[:,9:13]"
   ]
  },
  {
   "cell_type": "code",
   "execution_count": 15,
   "metadata": {
    "colab": {
     "base_uri": "https://localhost:8080/",
     "height": 35
    },
    "colab_type": "code",
    "id": "V1DWtfZdxGJq",
    "outputId": "c6b86b4f-b9fc-4456-bd2a-1c20429770e0"
   },
   "outputs": [],
   "source": [
    "#mars_mean_longitude.columns"
   ]
  },
  {
   "cell_type": "code",
   "execution_count": 16,
   "metadata": {
    "colab": {},
    "colab_type": "code",
    "id": "FNiQ8sFww2oR"
   },
   "outputs": [],
   "source": [
    "s_mean=mars_mean_longitude[\"ZodiacIndexAverageSun\"].values\n",
    "degree_mean=mars_mean_longitude[\"DegreeMean\"].values\n",
    "minute_mean=mars_mean_longitude[\"MinuteMean\"].values\n",
    "seconds_mean=mars_mean_longitude[\"SecondMean\"].values"
   ]
  },
  {
   "cell_type": "code",
   "execution_count": 17,
   "metadata": {
    "colab": {},
    "colab_type": "code",
    "id": "tz1wrliFxJtK"
   },
   "outputs": [],
   "source": [
    "mars_mean_longitude_in_degree=s_mean*30 +degree_mean + (minute_mean/60) + (seconds_mean/3600.0)"
   ]
  },
  {
   "cell_type": "code",
   "execution_count": 18,
   "metadata": {
    "colab": {},
    "colab_type": "code",
    "id": "wW5AeZ8WxJyS"
   },
   "outputs": [],
   "source": [
    "mars_mean_longitude_in_radian=mars_mean_longitude_in_degree*math.pi/180"
   ]
  },
  {
   "cell_type": "code",
   "execution_count": 19,
   "metadata": {
    "colab": {
     "base_uri": "https://localhost:8080/",
     "height": 72
    },
    "colab_type": "code",
    "id": "vMpwjAYJyP9n",
    "outputId": "89a298c7-705f-4dee-e75f-2ff5a092ad59"
   },
   "outputs": [],
   "source": [
    "#mars_mean_longitude_in_radian"
   ]
  },
  {
   "cell_type": "markdown",
   "metadata": {},
   "source": [
    "### Optimization "
   ]
  },
  {
   "cell_type": "code",
   "execution_count": 20,
   "metadata": {},
   "outputs": [],
   "source": [
    "alpha=mars_mean_longitude_in_radian\n",
    "beta=mars_heliocentric_longitude_in_radian"
   ]
  },
  {
   "cell_type": "code",
   "execution_count": 21,
   "metadata": {
    "colab": {},
    "colab_type": "code",
    "id": "NodrEsBG4VsL"
   },
   "outputs": [],
   "source": [
    "def loss_function(params,args):\n",
    "    x_list=[]\n",
    "    y_list=[]\n",
    "    r_list=[]\n",
    "    a=params[0]\n",
    "    b=params[1]\n",
    "    alpha=args[0]\n",
    "    beta=args[1]\n",
    "    for i in range(len(data)):\n",
    "        x=((-1-a)*np.sin(b) + (a*np.tan(alpha[i]) + np.tan(beta[i]))*np.cos(b))/(np.tan(alpha[i]) - np.tan(beta[i]))\n",
    "        y=a*np.sin(b) + (np.tan(alpha[i])* (x - a*np.cos(b)))\n",
    "        #print(x)\n",
    "        r=np.sqrt(x**2 + y**2)\n",
    "        x_list.append(x)\n",
    "        y_list.append(y)\n",
    "        r_list.append(r)\n",
    "    #print(x_list)   \n",
    "    ap=np.mean(r_list)\n",
    "    gp=gmean(r_list)\n",
    "    \n",
    "    #print((math.log(ap,10) - math.log(gp,10)))\n",
    "    return (math.log(ap,10) - math.log(gp,10))"
   ]
  },
  {
   "cell_type": "code",
   "execution_count": 22,
   "metadata": {},
   "outputs": [],
   "source": [
    "def loss_function_variance(params,args):\n",
    "    x_list=[]\n",
    "    y_list=[]\n",
    "    r_list=[]\n",
    "    a=params[0]\n",
    "    b=params[1]\n",
    "    alpha=args[0]\n",
    "    beta=args[1]\n",
    "    for i in range(len(data)):\n",
    "        x=((-1-a)*np.sin(b) + (a*np.tan(alpha[i]) + np.tan(beta[i]))*np.cos(b))/(np.tan(alpha[i]) - np.tan(beta[i]))\n",
    "        y=a*np.sin(b) + (np.tan(alpha[i])* (x - a*np.cos(b)))\n",
    "        #print(x)\n",
    "        r=np.sqrt(x**2 + y**2)\n",
    "        x_list.append(x)\n",
    "        y_list.append(y)\n",
    "        r_list.append(r)\n",
    "    #print(x_list)   \n",
    "    var=np.var(r_list)\n",
    "    \n",
    "    #print((math.log(ap,10) - math.log(gp,10)))\n",
    "    return var"
   ]
  },
  {
   "cell_type": "code",
   "execution_count": 23,
   "metadata": {},
   "outputs": [],
   "source": [
    "def optimizer(function,method_name,alpha,beta):\n",
    "    \n",
    "    \n",
    "    a=[1.2]\n",
    "    b=[0.2]\n",
    "    initial_parameters = np.array(a+b) #Random Values\n",
    "    #bound to avoid case of global Minima where i am getting Loss = 0\n",
    "    bounds = [(0.1, np.inf) for _ in a] + [(-np.inf, np.inf)]\n",
    "    \n",
    "    parameters = minimize(function, initial_parameters,\n",
    "                      args=[alpha,\n",
    "                            beta\n",
    "                            ],\n",
    "                      method=method_name,bounds=bounds)\n",
    "    #optimized_params, loss = parameters['x'], parameters['fun']\n",
    "    #print(optimized_params1)\n",
    "    #print(squared_error_loss1)\n",
    "    return parameters['x'], parameters['fun']"
   ]
  },
  {
   "cell_type": "markdown",
   "metadata": {},
   "source": [
    "### log(AM) -log(GM) Loss Function "
   ]
  },
  {
   "cell_type": "code",
   "execution_count": 24,
   "metadata": {},
   "outputs": [
    {
     "name": "stdout",
     "output_type": "stream",
     "text": [
      "Optimizing Parameters .... \n",
      "Optimized Parameters Computed\n"
     ]
    }
   ],
   "source": [
    "print(\"Optimizing Parameters .... \")\n",
    "function_name=loss_function\n",
    "optimized_params, loss= optimizer(function_name,'L-BFGS-B',alpha,beta)\n",
    "print(\"Optimized Parameters Computed\")"
   ]
  },
  {
   "cell_type": "code",
   "execution_count": 25,
   "metadata": {},
   "outputs": [
    {
     "data": {
      "text/plain": [
       "array([ 0.96767762, -0.5432288 ])"
      ]
     },
     "execution_count": 25,
     "metadata": {},
     "output_type": "execute_result"
    }
   ],
   "source": [
    "optimized_params"
   ]
  },
  {
   "cell_type": "code",
   "execution_count": 26,
   "metadata": {},
   "outputs": [
    {
     "name": "stdout",
     "output_type": "stream",
     "text": [
      "Optimized Parameters = [ 0.96767762 -0.5432288 ]\n"
     ]
    }
   ],
   "source": [
    "print(\"Optimized Parameters = \" + str(optimized_params))"
   ]
  },
  {
   "cell_type": "code",
   "execution_count": 27,
   "metadata": {},
   "outputs": [
    {
     "name": "stdout",
     "output_type": "stream",
     "text": [
      "Loss = 0.0017796207577609469\n"
     ]
    }
   ],
   "source": [
    "print(\"Loss = \" + str(loss))"
   ]
  },
  {
   "cell_type": "markdown",
   "metadata": {},
   "source": [
    "### Testing of Result  (AM-GM)"
   ]
  },
  {
   "cell_type": "code",
   "execution_count": 28,
   "metadata": {},
   "outputs": [],
   "source": [
    "#Plot to Check if Circle type structure is formed or not\n",
    "a=optimized_params[0]\n",
    "b=optimized_params[1]\n",
    "x_list=[]\n",
    "y_list=[]\n",
    "r_list=[]\n",
    "for i in range(len(data)):\n",
    "        x=((-1-a)*np.sin(b) + (a*np.tan(alpha[i]) + np.tan(beta[i]))*np.cos(b))/(np.tan(alpha[i]) - np.tan(beta[i]))\n",
    "        y=a*np.sin(b) + (np.tan(alpha[i])* (x - a*np.cos(b)))\n",
    "        #print(x)\n",
    "        r=np.sqrt(x**2 + y**2)\n",
    "        x_list.append(x)\n",
    "        y_list.append(y)\n",
    "        r_list.append(r)"
   ]
  },
  {
   "cell_type": "code",
   "execution_count": 29,
   "metadata": {},
   "outputs": [
    {
     "name": "stdout",
     "output_type": "stream",
     "text": [
      "Radius = 10.953094596498573\n"
     ]
    }
   ],
   "source": [
    "print(\"Radius = \" + str(np.mean(r_list)))"
   ]
  },
  {
   "cell_type": "code",
   "execution_count": 31,
   "metadata": {},
   "outputs": [
    {
     "data": {
      "text/plain": [
       "[-5.099125412244697,\n",
       " 2.4748039245894144,\n",
       " 8.29665817335326,\n",
       " 10.865488234653933,\n",
       " 8.263567219970254,\n",
       " -0.28058990192180233,\n",
       " -9.213484474969455,\n",
       " -10.3446820843133,\n",
       " -0.3768849383289791,\n",
       " 6.320350201574605,\n",
       " 10.880012857040603,\n",
       " 10.004712014156167]"
      ]
     },
     "execution_count": 31,
     "metadata": {},
     "output_type": "execute_result"
    }
   ],
   "source": [
    "x_list"
   ]
  },
  {
   "cell_type": "code",
   "execution_count": 32,
   "metadata": {},
   "outputs": [
    {
     "data": {
      "text/plain": [
       "[-9.230529465133495,\n",
       " -10.429036074474151,\n",
       " -6.73671735132627,\n",
       " -0.3610149163830578,\n",
       " 6.75733518989351,\n",
       " 10.547867826737999,\n",
       " 3.1894604740708647,\n",
       " -9.848212753085702,\n",
       " -10.60613995991022,\n",
       " -8.462092528051805,\n",
       " -3.1947247918110637,\n",
       " 4.176054673409928]"
      ]
     },
     "execution_count": 32,
     "metadata": {},
     "output_type": "execute_result"
    }
   ],
   "source": [
    "y_list"
   ]
  },
  {
   "cell_type": "code",
   "execution_count": 30,
   "metadata": {},
   "outputs": [
    {
     "data": {
      "image/png": "[encoded data removed]",
      "text/plain": [
       "<Figure size 432x288 with 1 Axes>"
      ]
     },
     "metadata": {
      "needs_background": "light"
     },
     "output_type": "display_data"
    }
   ],
   "source": [
    "import matplotlib.pyplot as plt\n",
    "circle1 = plt.Circle((0, 0), np.mean(r_list),fill=False)\n",
    "fig, ax = plt.subplots()\n",
    "ax.add_artist(circle1)\n",
    "plt.scatter(x_list,y_list,color='red')\n",
    "plt.show()"
   ]
  },
  {
   "cell_type": "code",
   "execution_count": null,
   "metadata": {},
   "outputs": [],
   "source": []
  }
 ],
 "metadata": {
  "colab": {
   "name": "data_analytics_2_i.ipynb",
   "provenance": [],
   "version": "0.3.2"
  },
  "kernelspec": {
   "display_name": "Python 3",
   "language": "python",
   "name": "python3"
  },
  "language_info": {
   "codemirror_mode": {
    "name": "ipython",
    "version": 3
   },
   "file_extension": ".py",
   "mimetype": "text/x-python",
   "name": "python",
   "nbconvert_exporter": "python",
   "pygments_lexer": "ipython3",
   "version": "3.7.3"
  }
 },
 "nbformat": 4,
 "nbformat_minor": 1
}
